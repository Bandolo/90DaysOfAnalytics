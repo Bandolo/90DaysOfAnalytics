{
 "cells": [
  {
   "attachments": {},
   "cell_type": "markdown",
   "id": "e08b019d",
   "metadata": {},
   "source": [
    "## Matplotlib Basics"
   ]
  },
  {
   "cell_type": "code",
   "execution_count": null,
   "id": "d76ec12e",
   "metadata": {},
   "outputs": [],
   "source": [
    "import matplotlib.pyplot as plt\n",
    "%matplotlib inline"
   ]
  },
  {
   "cell_type": "code",
   "execution_count": null,
   "id": "c1d3da98",
   "metadata": {},
   "outputs": [],
   "source": [
    "day-[1,2,3,4,5,6,7]\n",
    "max_temp=[50,51,52,48,47,49,46]\n",
    "min_temp=[43,42,40,44,33,35,37]\n",
    "avg_temp=[45,48,48,46,40,42,41]"
   ]
  },
  {
   "cell_type": "code",
   "execution_count": null,
   "id": "420873b1",
   "metadata": {},
   "outputs": [],
   "source": [
    "# show legend\n",
    "plt.xlabel('day')\n",
    "plt.ylabel('Temperature')\n",
    "plt.title('Daily Temperature')\n",
    "\n",
    "plt.plot(day,max_temp, label='max')\n",
    "plt.plot(day,min_temp, label='min')\n",
    "plt.plot(day,avg_temp, label='avg')\n",
    "\n",
    "plt.legend(loc='best')"
   ]
  },
  {
   "cell_type": "code",
   "execution_count": null,
   "id": "d88f8f2e",
   "metadata": {},
   "outputs": [],
   "source": [
    "# Bar Chart\n",
    "import numpy as np"
   ]
  },
  {
   "cell_type": "code",
   "execution_count": null,
   "id": "8e4f6b40",
   "metadata": {},
   "outputs": [],
   "source": [
    "shop = ['shop1','shop2','shop3','shop4']\n",
    "revenue = [110,156,109,47]"
   ]
  },
  {
   "cell_type": "code",
   "execution_count": null,
   "id": "17842a6f",
   "metadata": {},
   "outputs": [],
   "source": [
    "xpos = np.arrange(len(shop))\n",
    "xpos"
   ]
  },
  {
   "cell_type": "code",
   "execution_count": null,
   "id": "ae4d1de5",
   "metadata": {},
   "outputs": [],
   "source": [
    "# vertical bar\n",
    "plt.bar(xpos, revenue, label = 'Revenue')\n",
    "\n",
    "plt.xticks(xpos,shop)\n",
    "plt.ylabel(\"Revenue\")\n",
    "plt.title('Revenue Per Shop')\n",
    "plt.legend()"
   ]
  },
  {
   "cell_type": "code",
   "execution_count": null,
   "id": "946f93ef",
   "metadata": {},
   "outputs": [],
   "source": [
    "# horizontal bar\n",
    "plt.barh(xpos, revenue, label = 'Revenue')\n",
    "\n",
    "plt.xticks(xpos,shop)\n",
    "plt.ylabel(\"Revenue\")\n",
    "plt.title('Revenue Per Shop')\n",
    "plt.legend()"
   ]
  },
  {
   "cell_type": "code",
   "execution_count": null,
   "id": "93acde97",
   "metadata": {},
   "outputs": [],
   "source": [
    "# histogram\n",
    "visitors = [113, 85, 90, 150, 149, 88, 93, 115, 135, 80, 77, 82, 129]\n",
    "plt.hist(visitors,rwidth=0.8)"
   ]
  },
  {
   "cell_type": "code",
   "execution_count": null,
   "id": "bd7b3fa2",
   "metadata": {},
   "outputs": [],
   "source": [
    "# Pie Chart\n",
    "units_sold = [1600,800,500,610,450]\n",
    "product = [\"Rice\",\"Milk\",\"Beans\",\"Garri\",\"Sugar\"]"
   ]
  },
  {
   "cell_type": "code",
   "execution_count": null,
   "id": "2777c91c",
   "metadata": {},
   "outputs": [],
   "source": [
    "plt.pie(units_sold, labels=product)\n",
    "plt.show()"
   ]
  },
  {
   "cell_type": "code",
   "execution_count": null,
   "id": "71d417f0",
   "metadata": {},
   "outputs": [],
   "source": [
    "plt.axis('equal')\n",
    "plt.pie(units_sold, labels=product, autopct='%1.1f%%')\n",
    "plt.show()"
   ]
  },
  {
   "cell_type": "code",
   "execution_count": null,
   "id": "9d62fdd0",
   "metadata": {},
   "outputs": [],
   "source": [
    "# Save a Chart\n",
    "units_sold = [1600,800,500,610,450]\n",
    "product = [\"Rice\",\"Milk\",\"Beans\",\"Garri\",\"Sugar\"]"
   ]
  },
  {
   "cell_type": "code",
   "execution_count": null,
   "id": "6796b52f",
   "metadata": {},
   "outputs": [],
   "source": [
    "plt.axis('equal')\n",
    "plt.pie(units_sold, labels=product, autopct='%1.1f%%')\n",
    "plt.savefig(\"product.jpg\", bbox_inches='tight', pad_inches=1, transparent=True)"
   ]
  }
 ],
 "metadata": {
  "kernelspec": {
   "display_name": "Python 3 (ipykernel)",
   "language": "python",
   "name": "python3"
  },
  "language_info": {
   "codemirror_mode": {
    "name": "ipython",
    "version": 3
   },
   "file_extension": ".py",
   "mimetype": "text/x-python",
   "name": "python",
   "nbconvert_exporter": "python",
   "pygments_lexer": "ipython3",
   "version": "3.10.9"
  }
 },
 "nbformat": 4,
 "nbformat_minor": 5
}
