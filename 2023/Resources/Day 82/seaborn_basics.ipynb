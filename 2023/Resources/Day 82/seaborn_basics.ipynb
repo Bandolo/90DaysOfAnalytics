{
 "cells": [
  {
   "attachments": {},
   "cell_type": "markdown",
   "id": "e08b019d",
   "metadata": {},
   "source": [
    "## Seaborn Basics"
   ]
  },
  {
   "cell_type": "code",
   "execution_count": null,
   "id": "d76ec12e",
   "metadata": {},
   "outputs": [],
   "source": [
    "import numpy as np\n",
    "import matplotlib.pyplot as plt\n",
    "import pandas as pd\n",
    "import seaborn as sns\n",
    "\n",
    "\n",
    "%matplotlib inline"
   ]
  },
  {
   "cell_type": "code",
   "execution_count": null,
   "id": "4cc0368b",
   "metadata": {},
   "outputs": [],
   "source": [
    "print(sns.get_dataset_names())"
   ]
  },
  {
   "cell_type": "code",
   "execution_count": null,
   "id": "efe2197b",
   "metadata": {},
   "outputs": [],
   "source": [
    "crash_df = sns.load_dataset(\"car_crashes\")\n",
    "\n",
    "crash_df.head()"
   ]
  },
  {
   "cell_type": "code",
   "execution_count": null,
   "id": "f0b8be11",
   "metadata": {},
   "outputs": [],
   "source": [
    "# distribution plot\n",
    "sns.distplot(crash_df)"
   ]
  },
  {
   "cell_type": "code",
   "execution_count": null,
   "id": "02d9e1d1",
   "metadata": {},
   "outputs": [],
   "source": [
    "# joint plot\n",
    "sns.jointplot(x='speeding',y='alcohol', data = crash_df, kind='reg')"
   ]
  },
  {
   "cell_type": "code",
   "execution_count": null,
   "id": "4f118482",
   "metadata": {},
   "outputs": [],
   "source": [
    "# pair plot\n",
    "sns.pairplot(crash_df)"
   ]
  },
  {
   "cell_type": "code",
   "execution_count": null,
   "id": "5712ce4f",
   "metadata": {},
   "outputs": [],
   "source": [
    "# styling\n",
    "sns.set_style('white')\n",
    "plt.figure(figsize=(8,4))\n",
    "\n",
    "sns.set_context('paper', font_scale=1.4)\n",
    "\n",
    "sns.jointplot(x='speeding', y='alcohol', data = crash_df, kind='reg')"
   ]
  },
  {
   "cell_type": "code",
   "execution_count": null,
   "id": "be2c4aca",
   "metadata": {},
   "outputs": [],
   "source": [
    "tips_df = sns.load_dataset(\"tips\")\n",
    "\n",
    "tips_df.head()"
   ]
  },
  {
   "cell_type": "code",
   "execution_count": null,
   "id": "0374355c",
   "metadata": {},
   "outputs": [],
   "source": [
    "# Bar Plot\n",
    "sns.barplot(x='sex', y='total_bill',data=tips_df, estimator=np.median)"
   ]
  },
  {
   "cell_type": "code",
   "execution_count": null,
   "id": "64efd929",
   "metadata": {},
   "outputs": [],
   "source": [
    "# Count Plot\n",
    "sns.countplot(x='sex', data=tips_df)"
   ]
  },
  {
   "cell_type": "code",
   "execution_count": null,
   "id": "6b0d0744",
   "metadata": {},
   "outputs": [],
   "source": []
  }
 ],
 "metadata": {
  "kernelspec": {
   "display_name": "Python 3 (ipykernel)",
   "language": "python",
   "name": "python3"
  },
  "language_info": {
   "codemirror_mode": {
    "name": "ipython",
    "version": 3
   },
   "file_extension": ".py",
   "mimetype": "text/x-python",
   "name": "python",
   "nbconvert_exporter": "python",
   "pygments_lexer": "ipython3",
   "version": "3.10.9"
  }
 },
 "nbformat": 4,
 "nbformat_minor": 5
}
